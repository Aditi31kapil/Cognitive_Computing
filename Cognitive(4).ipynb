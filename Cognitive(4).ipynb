{
  "nbformat": 4,
  "nbformat_minor": 0,
  "metadata": {
    "colab": {
      "provenance": [],
      "authorship_tag": "ABX9TyNu5k+txEQxXn25lHGv8ybl",
      "include_colab_link": true
    },
    "kernelspec": {
      "name": "python3",
      "display_name": "Python 3"
    },
    "language_info": {
      "name": "python"
    }
  },
  "cells": [
    {
      "cell_type": "markdown",
      "metadata": {
        "id": "view-in-github",
        "colab_type": "text"
      },
      "source": [
        "<a href=\"https://colab.research.google.com/github/Aditi31kapil/Cognitive_Computing/blob/main/Cognitive(4).ipynb\" target=\"_parent\"><img src=\"https://colab.research.google.com/assets/colab-badge.svg\" alt=\"Open In Colab\"/></a>"
      ]
    },
    {
      "cell_type": "markdown",
      "source": [
        "Ques 1"
      ],
      "metadata": {
        "id": "Qkvd_gb4QNXd"
      }
    },
    {
      "cell_type": "code",
      "execution_count": 3,
      "metadata": {
        "id": "dNoN0klsQCrG",
        "colab": {
          "base_uri": "https://localhost:8080/"
        },
        "outputId": "08d1d0a4-4781-490d-d5e1-54f95fc165a7"
      },
      "outputs": [
        {
          "output_type": "stream",
          "name": "stdout",
          "text": [
            "[1 2 3 4 5]\n"
          ]
        }
      ],
      "source": [
        "import numpy as np\n",
        "\n",
        "arr = [1,2,3,4,5]\n",
        "np_arr = np.array(arr)\n",
        "print(np_arr)"
      ]
    },
    {
      "cell_type": "code",
      "source": [
        "#Add\n",
        "add = np_arr + 2\n",
        "print(add)\n",
        "\n",
        "#Mul\n",
        "mult = np_arr * 2\n",
        "print(mult)\n",
        "\n",
        "#Div\n",
        "div = np_arr / 2\n",
        "print(div)"
      ],
      "metadata": {
        "colab": {
          "base_uri": "https://localhost:8080/"
        },
        "id": "yMLFYToqS3a9",
        "outputId": "0a66de13-44d1-4749-ebb9-7f313fe87485"
      },
      "execution_count": 8,
      "outputs": [
        {
          "output_type": "stream",
          "name": "stdout",
          "text": [
            "[ 7.  8.  9. 10. 11.]\n",
            "[10. 12. 14. 16. 18.]\n",
            "[2.5 3.  3.5 4.  4.5]\n"
          ]
        }
      ]
    },
    {
      "cell_type": "markdown",
      "source": [
        "Ques 2"
      ],
      "metadata": {
        "id": "HYYQAxoyTvaX"
      }
    },
    {
      "cell_type": "code",
      "source": [
        "#a\n",
        "arr = np.array([1, 2, 3, 6, 4, 5])\n",
        "print(arr[::-1])\n",
        "#b\n",
        "x = np.array([1,2,3,4,5,1,2,1,1,1])\n",
        "y = np.array([1, 1, 1, 2, 3, 4, 2, 4, 3, 3])\n",
        "\n",
        "print(np.bincount(x).argmax())\n",
        "print(np.bincount(y).argmax())\n"
      ],
      "metadata": {
        "colab": {
          "base_uri": "https://localhost:8080/"
        },
        "id": "FI-nT0zBTuUx",
        "outputId": "a5292618-d032-4a39-8ad5-94cc8400250a"
      },
      "execution_count": 14,
      "outputs": [
        {
          "output_type": "stream",
          "name": "stdout",
          "text": [
            "[5 4 6 3 2 1]\n",
            "1\n",
            "1\n"
          ]
        }
      ]
    },
    {
      "cell_type": "markdown",
      "source": [
        "Ques 3"
      ],
      "metadata": {
        "id": "gQdInl73U3Gi"
      }
    },
    {
      "cell_type": "code",
      "source": [
        "arr= np.array([[10, 20, 30], [40, 50, 60], [70, 80, 90]])\n",
        "\n",
        "print(arr[0][1])\n",
        "print(arr[2][0])"
      ],
      "metadata": {
        "colab": {
          "base_uri": "https://localhost:8080/"
        },
        "id": "84vmITwIU2SG",
        "outputId": "c5d94a53-f2c9-4059-ff73-4f91642adb76"
      },
      "execution_count": 16,
      "outputs": [
        {
          "output_type": "stream",
          "name": "stdout",
          "text": [
            "20\n",
            "70\n"
          ]
        }
      ]
    },
    {
      "cell_type": "markdown",
      "source": [
        "Ques 4"
      ],
      "metadata": {
        "id": "sgWQ7g1EVWKc"
      }
    },
    {
      "cell_type": "markdown",
      "source": [
        "Diff between Resize and Reshape And Transpose\n",
        "\n",
        "| Feature | Reshape | Resize | Transpose |\n",
        "|---|---|---|---|\n",
        "| **Purpose** | Changes the shape of an array without changing its data. | Changes the shape and size of an array. It repeats or truncates elements to fit the new size. | Flips the dimensions of an array. Rows become columns, and columns become rows. |\n",
        "| **Data Modification** | Does not modify the original data. | Might add or remove elements to match the new size. | Does not modify the original data, only rearranges it. |\n",
        "| **Element Count** | The total number of elements remains the same. | The total number of elements might change. | The total number of elements remains the same. |\n",
        "| **In the Context of Images** | Changes the dimensions of the image (e.g., height and width) without altering pixel data. | Changes the dimensions of the image, potentially adding or removing pixels. | Flips the image along its diagonal, swapping width and height. |\n",
        "| **Example** | `arr.reshape(2, 3)` | `np.resize(arr, (3, 3))` | `arr.T` |"
      ],
      "metadata": {
        "id": "nqlUT4cmXIWz"
      }
    },
    {
      "cell_type": "code",
      "source": [
        "arr = np.linspace(10,100,25)\n",
        "print(\"array\", arr)\n",
        "\n",
        "#attributes\n",
        "print(\"Shape:\", arr.shape)\n",
        "print(\"Size:\", arr.size)\n",
        "print(\"Data Type:\", arr.dtype)\n",
        "print(\"Dimensions:\", arr.ndim)\n",
        "\n",
        "#Transpose\n",
        "print(\"Transpose:\", arr.T)\n",
        "reshaped = arr.reshape(5,5)\n",
        "print(\"Reshaped:\", reshaped)\n",
        "print(\"Transpose:\", reshaped.T)"
      ],
      "metadata": {
        "colab": {
          "base_uri": "https://localhost:8080/"
        },
        "id": "D5vyviVjSg3J",
        "outputId": "35b24582-a083-49e7-8f7d-fc85f220b993"
      },
      "execution_count": 27,
      "outputs": [
        {
          "output_type": "stream",
          "name": "stdout",
          "text": [
            "array [ 10.    13.75  17.5   21.25  25.    28.75  32.5   36.25  40.    43.75\n",
            "  47.5   51.25  55.    58.75  62.5   66.25  70.    73.75  77.5   81.25\n",
            "  85.    88.75  92.5   96.25 100.  ]\n",
            "Shape: (25,)\n",
            "Size: 25\n",
            "Data Type: float64\n",
            "Dimensions: 1\n",
            "Transpose: [ 10.    13.75  17.5   21.25  25.    28.75  32.5   36.25  40.    43.75\n",
            "  47.5   51.25  55.    58.75  62.5   66.25  70.    73.75  77.5   81.25\n",
            "  85.    88.75  92.5   96.25 100.  ]\n",
            "Reshaped: [[ 10.    13.75  17.5   21.25  25.  ]\n",
            " [ 28.75  32.5   36.25  40.    43.75]\n",
            " [ 47.5   51.25  55.    58.75  62.5 ]\n",
            " [ 66.25  70.    73.75  77.5   81.25]\n",
            " [ 85.    88.75  92.5   96.25 100.  ]]\n",
            "Transpose: [[ 10.    28.75  47.5   66.25  85.  ]\n",
            " [ 13.75  32.5   51.25  70.    88.75]\n",
            " [ 17.5   36.25  55.    73.75  92.5 ]\n",
            " [ 21.25  40.    58.75  77.5   96.25]\n",
            " [ 25.    43.75  62.5   81.25 100.  ]]\n"
          ]
        }
      ]
    },
    {
      "cell_type": "markdown",
      "source": [
        "Ques 5"
      ],
      "metadata": {
        "id": "o6eYcybGVb45"
      }
    },
    {
      "cell_type": "code",
      "source": [
        "arr= [10, 20, 30, 40, 50, 60, 70, 80, 90, 15, 20, 35]\n",
        "ucs420_aditi = np.array(arr)\n",
        "reshaped = ucs420_aditi.reshape(3,4)\n",
        "print(reshaped)\n",
        "#stats\n",
        "print('------------------------------------------')\n",
        "print(\"Mean:\", np.mean(reshaped))\n",
        "print(\"Median:\", np.median(reshaped))\n",
        "print(\"Unique:\", np.unique(reshaped))\n",
        "print(\"Minimum:\", np.min(reshaped))\n",
        "print(\"Maximum:\", np.max(reshaped))\n",
        "print(\"Variance:\", np.var(reshaped))\n",
        "print(\"Standard Deviation:\", np.std(reshaped))\n",
        "\n",
        "print('------------------------------------------')\n",
        "reshaped_ucs420_aditi = reshaped.reshape(4,3)\n",
        "print(reshaped_ucs420_aditi)\n",
        "print('------------------------------------------')\n",
        "resized_ucs420_aditi = np.resize(reshaped_ucs420_aditi, (2,3))\n",
        "print(resized_ucs420_aditi)\n"
      ],
      "metadata": {
        "colab": {
          "base_uri": "https://localhost:8080/"
        },
        "id": "ws4NhRJaSfpS",
        "outputId": "77837b9a-39bd-42ef-a6b7-de54e01dca26"
      },
      "execution_count": 23,
      "outputs": [
        {
          "output_type": "stream",
          "name": "stdout",
          "text": [
            "[[10 20 30 40]\n",
            " [50 60 70 80]\n",
            " [90 15 20 35]]\n",
            "------------------------------------------\n",
            "Mean: 43.333333333333336\n",
            "Median: 37.5\n",
            "Unique: [10 15 20 30 35 40 50 60 70 80 90]\n",
            "Minimum: 10\n",
            "Maximum: 90\n",
            "Variance: 651.3888888888889\n",
            "Standard Deviation: 25.522321385189258\n",
            "------------------------------------------\n",
            "[[10 20 30]\n",
            " [40 50 60]\n",
            " [70 80 90]\n",
            " [15 20 35]]\n",
            "------------------------------------------\n",
            "[[10 20 30]\n",
            " [40 50 60]]\n"
          ]
        }
      ]
    }
  ]
}