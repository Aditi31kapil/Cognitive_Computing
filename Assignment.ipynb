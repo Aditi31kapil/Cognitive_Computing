{
  "nbformat": 4,
  "nbformat_minor": 0,
  "metadata": {
    "colab": {
      "provenance": [],
      "toc_visible": true,
      "authorship_tag": "ABX9TyNCY71V0qDiLyAg+ggm8uhH",
      "include_colab_link": true
    },
    "kernelspec": {
      "name": "python3",
      "display_name": "Python 3"
    },
    "language_info": {
      "name": "python"
    }
  },
  "cells": [
    {
      "cell_type": "markdown",
      "metadata": {
        "id": "view-in-github",
        "colab_type": "text"
      },
      "source": [
        "<a href=\"https://colab.research.google.com/github/Aditi31kapil/Cognitive_Computing/blob/main/Assignment.ipynb\" target=\"_parent\"><img src=\"https://colab.research.google.com/assets/colab-badge.svg\" alt=\"Open In Colab\"/></a>"
      ]
    },
    {
      "cell_type": "markdown",
      "source": [
        "Coginitive Assignment number 1."
      ],
      "metadata": {
        "id": "hMOL4lPXkxGM"
      }
    },
    {
      "cell_type": "code",
      "execution_count": null,
      "metadata": {
        "colab": {
          "base_uri": "https://localhost:8080/"
        },
        "id": "IZMRAJzjkwDG",
        "outputId": "f5cead8d-5efc-462b-82d8-3093d30e22dc"
      },
      "outputs": [
        {
          "output_type": "stream",
          "name": "stdout",
          "text": [
            "Muskuraiye Aap Thapar mein hai\n"
          ]
        }
      ],
      "source": [
        "#Ques 1\n",
        "print(\"Muskuraiye Aap Thapar mein hai\")"
      ]
    },
    {
      "cell_type": "code",
      "source": [
        "#Ques 2\n",
        "a = int(input(\"Enter the first number: \"))\n",
        "b = int(input(\"Enter the second number:\"))\n",
        "c = input(\"Enter your name: \")\n",
        "#Q 2.1\n",
        "print(\"Addition:\", a+b);\n",
        "#Q 2.2\n",
        "print(\"Hi \"+ c + \" How are you?\")\n",
        "#Q 2.3\n",
        "print(c + \" your added number is \" + str(a + b))"
      ],
      "metadata": {
        "colab": {
          "base_uri": "https://localhost:8080/"
        },
        "id": "SJBEnP4TpdYI",
        "outputId": "08e16e07-8eab-4bdb-e56f-5172dfb8484d"
      },
      "execution_count": null,
      "outputs": [
        {
          "output_type": "stream",
          "name": "stdout",
          "text": [
            "Enter the first number: 5\n",
            "Enter the second number:6\n",
            "Enter your name: Aditi Kapil\n",
            "Addition: 11\n",
            "Hi Aditi Kapil How are you?\n",
            "Aditi Kapil your added number is 11\n"
          ]
        }
      ]
    },
    {
      "cell_type": "code",
      "source": [
        "#Ques 3\n",
        "# Q 3.1\n",
        "a = int(input(\"Enter the number: \"))\n",
        "if(a>0):\n",
        "  print(\"Positive\")\n",
        "elif(a<0):\n",
        "  print(\"Negative\")\n",
        "else:\n",
        "  print(\"Zero\")\n",
        "# Q 3.2\n",
        "if(a%2==0):\n",
        "  print(\"Even\")\n",
        "else:\n",
        "  print(\"Odd\")"
      ],
      "metadata": {
        "colab": {
          "base_uri": "https://localhost:8080/"
        },
        "id": "ajJJ2ARhs6g3",
        "outputId": "1bf057b7-ad3b-466b-aa6f-f71a920bd2cc"
      },
      "execution_count": null,
      "outputs": [
        {
          "output_type": "stream",
          "name": "stdout",
          "text": [
            "Enter the number: 6\n",
            "Positive\n",
            "Even\n"
          ]
        }
      ]
    },
    {
      "cell_type": "code",
      "source": [
        "#Ques 4\n",
        "#Q 4.1\n",
        "print(\"Numbers from 1 to 10 are using for: \")\n",
        "a = 1\n",
        "for i in range(10):\n",
        "  print(a, end = \" \")\n",
        "  a = a+1\n",
        "print(\"\\n\")\n",
        "#Q 4.2\n",
        "print(\"Numbers from 1 to 10 are using while : \")\n",
        "i = 1\n",
        "while(i<=10):\n",
        "  print(i, end =\" \")\n",
        "  i= i+1\n"
      ],
      "metadata": {
        "colab": {
          "base_uri": "https://localhost:8080/"
        },
        "id": "rTxbd0bpvtfa",
        "outputId": "ae8c1bdf-873b-40b7-83d3-dd19ee2e0f5f"
      },
      "execution_count": null,
      "outputs": [
        {
          "output_type": "stream",
          "name": "stdout",
          "text": [
            "Numbers from 1 to 10 are using for: \n",
            "1 2 3 4 5 6 7 8 9 10 \n",
            "\n",
            "Numbers from 1 to 10 are using while : \n",
            "1 2 3 4 5 6 7 8 9 10 "
          ]
        }
      ]
    },
    {
      "cell_type": "code",
      "source": [
        "#Ques 5\n",
        "#Q 5.1\n",
        "l = []\n",
        "for i in range(5):\n",
        "  a = int(input(\"Enter the number: \"))\n",
        "  l.append(a)\n",
        "\n",
        "print(\"The largest number is: \", max(l))\n",
        "print(\"The smallest number is:\", min(l))\n",
        "#Q 5.3\n",
        "l.sort()\n",
        "print(\"The sorted list:\", l)\n",
        "l.reverse()\n",
        "print(\"The reversed list:\", l)\n"
      ],
      "metadata": {
        "id": "fKjxNyYTxcj5",
        "colab": {
          "base_uri": "https://localhost:8080/"
        },
        "outputId": "8d2ff101-9007-49d5-ff1f-85b8e4be3bba"
      },
      "execution_count": null,
      "outputs": [
        {
          "output_type": "stream",
          "name": "stdout",
          "text": [
            "Enter the number: 2\n",
            "Enter the number: 3\n",
            "Enter the number: 1\n",
            "Enter the number: 8\n",
            "Enter the number: 6\n",
            "The largest number is:  8\n",
            "The smallest number is: 1\n",
            "The sorted list: [1, 2, 3, 6, 8]\n",
            "The reversed list: [8, 6, 3, 2, 1]\n"
          ]
        }
      ]
    },
    {
      "cell_type": "code",
      "source": [
        "#Q 5.2\n",
        "a = input(\"Enter your name: \")\n",
        "b = input(\"Enter your age: \")\n",
        "c = input(\"Enter your city:\")\n",
        "\n",
        "my_dict = {\"name\": a, \"age\": b, \"city\": c}\n",
        "\n",
        "def get_value(key):\n",
        "  if key in my_dict:\n",
        "    return my_dict[key]\n",
        "  else:\n",
        "    return None\n",
        "\n",
        "# Example usage\n",
        "key_to_find = \"age\"\n",
        "value = get_value(key_to_find)\n",
        "\n",
        "if value is not None:\n",
        "  print(f\"The value for key '{key_to_find}' is: {value}\")\n",
        "else:\n",
        "  print(f\"Key '{key_to_find}' not found in the dictionary.\")"
      ],
      "metadata": {
        "colab": {
          "base_uri": "https://localhost:8080/"
        },
        "id": "OOY8rYe49vhB",
        "outputId": "f14dd86f-85eb-40c6-ab92-e3b3f1df3ba4"
      },
      "execution_count": null,
      "outputs": [
        {
          "output_type": "stream",
          "name": "stdout",
          "text": [
            "Enter your name: aditi\n",
            "Enter your age: 19\n",
            "Enter your city:jalandhar\n",
            "The value for key 'age' is: 19\n"
          ]
        }
      ]
    },
    {
      "cell_type": "code",
      "source": [
        "#Q 5.4\n",
        "a = input(\"Enter your name: \")\n",
        "b = input(\"Enter your age: \")\n",
        "c = input(\"Enter your city:\")\n",
        "my_dict = {\"name\": a, \"age\": b, \"city\": c}\n",
        "\n",
        "d = input(\"Enter your DOB: \")\n",
        "e = input(\"Enter your Gender: \")\n",
        "f = input(\"Enter your state:\")\n",
        "my_dict2 = {\"DOB\": d, \"Gender\": e, \"State\": f}\n",
        "\n",
        "d = my_dict.copy()\n",
        "d.update(my_dict2)\n",
        "print(d)"
      ],
      "metadata": {
        "colab": {
          "base_uri": "https://localhost:8080/"
        },
        "id": "Is7qsm8eZEWw",
        "outputId": "07fd4768-ea3c-4dd6-a361-727f53069352"
      },
      "execution_count": null,
      "outputs": [
        {
          "output_type": "stream",
          "name": "stdout",
          "text": [
            "Enter your name: Aditi\n",
            "Enter your age: 19\n",
            "Enter your city:JALANDHAR\n",
            "Enter your DOB: 31-03-2005\n",
            "Enter your Gender: Female\n",
            "Enter your state:Punjab\n",
            "{'name': 'Aditi', 'age': '19', 'city': 'JALANDHAR', 'DOB': '31-03-2005', 'Gender': 'Female', 'State': 'Punjab'}\n"
          ]
        }
      ]
    },
    {
      "cell_type": "code",
      "source": [
        "# Q 6\n",
        "def volumecounter(a):\n",
        "  count =0\n",
        "  vowel = \"aeiouAEIOU\"\n",
        "  for i in a:\n",
        "    if i in vowel:\n",
        "      count = count+1\n",
        "  return count\n",
        "#q 6.1\n",
        "a = input(\"Enter string word\")\n",
        "ans = volumecounter(a)\n",
        "print(\"The number of vowels are:\", ans)"
      ],
      "metadata": {
        "id": "imLHqZa4b4yf",
        "colab": {
          "base_uri": "https://localhost:8080/"
        },
        "outputId": "df843ddf-8aa2-42a1-c26b-1cab24a6c64d"
      },
      "execution_count": 3,
      "outputs": [
        {
          "output_type": "stream",
          "name": "stdout",
          "text": [
            "Enter string wordrhythm\n",
            "The number of vowels are: 0\n"
          ]
        }
      ]
    },
    {
      "cell_type": "code",
      "source": [
        "#q 6.2\n",
        "txt = a[::-1]\n",
        "print(txt)"
      ],
      "metadata": {
        "colab": {
          "base_uri": "https://localhost:8080/"
        },
        "id": "zSRIdz-6QsNX",
        "outputId": "ce6ca187-5bf6-4b80-ceaa-68fff15d182d"
      },
      "execution_count": 4,
      "outputs": [
        {
          "output_type": "stream",
          "name": "stdout",
          "text": [
            "mhtyhr\n"
          ]
        }
      ]
    },
    {
      "cell_type": "code",
      "source": [
        "#q 6.3\n",
        "def ispalindrome(a):\n",
        "  if a == a[::-1]:\n",
        "    return True\n",
        "  else:\n",
        "    return False\n",
        "\n",
        "b = \"MOM\"\n",
        "ans = ispalindrome(b)\n",
        "print(ans)"
      ],
      "metadata": {
        "colab": {
          "base_uri": "https://localhost:8080/"
        },
        "id": "c8O5UoPgRUsh",
        "outputId": "381559e8-ff4f-4705-e05b-5e2a62ab8396"
      },
      "execution_count": 6,
      "outputs": [
        {
          "output_type": "stream",
          "name": "stdout",
          "text": [
            "True\n"
          ]
        }
      ]
    },
    {
      "cell_type": "code",
      "source": [
        "#ques 7\n",
        "#q7.1\n",
        "def createfile():\n",
        "  f = open(\"demofile.txt\", \"w\")\n",
        "  f.write(\"This is a demo file\")\n",
        "  f.close()\n",
        "\n",
        "createfile()\n",
        "\n",
        "f = open(\"demofile.txt\", \"r\")\n",
        "print(f.read())\n"
      ],
      "metadata": {
        "colab": {
          "base_uri": "https://localhost:8080/"
        },
        "id": "3_49ViMoWRYo",
        "outputId": "50b37b09-c813-4589-8e86-a02ad4330833"
      },
      "execution_count": 21,
      "outputs": [
        {
          "output_type": "stream",
          "name": "stdout",
          "text": [
            "This is a demo file\n"
          ]
        }
      ]
    },
    {
      "cell_type": "code",
      "source": [
        "#q 7.2\n",
        "f = open(\"demofile.txt\", \"a\")\n",
        "f.write(\"\\nThis is a new line\")\n",
        "f.close()\n",
        "\n",
        "f = open(\"demofile.txt\", \"r\")\n",
        "print(f.read())"
      ],
      "metadata": {
        "colab": {
          "base_uri": "https://localhost:8080/"
        },
        "id": "37YiALqpXQjA",
        "outputId": "4d0126b7-c11d-474a-d1c5-eac08f5b7b7f"
      },
      "execution_count": 22,
      "outputs": [
        {
          "output_type": "stream",
          "name": "stdout",
          "text": [
            "This is a demo file\n",
            "This is a new line\n"
          ]
        }
      ]
    },
    {
      "cell_type": "code",
      "source": [
        "#q 7.3\n",
        "f = open(\"demofile.txt\", \"r\")\n",
        "len = len(f.readlines())\n",
        "print(\"The number of lines are:\", len)"
      ],
      "metadata": {
        "colab": {
          "base_uri": "https://localhost:8080/"
        },
        "id": "_Pb56qZGXc96",
        "outputId": "d645b569-827c-47eb-dc36-231416edf575"
      },
      "execution_count": 24,
      "outputs": [
        {
          "output_type": "stream",
          "name": "stdout",
          "text": [
            "The number of lines are: 2\n"
          ]
        }
      ]
    },
    {
      "cell_type": "code",
      "source": [
        "#ques 8\n",
        "def divbyzero():\n",
        "  try:\n",
        "    n = int(input(\"Enter an integer\"))\n",
        "    res = 100 / n\n",
        "\n",
        "  except ZeroDivisionError:\n",
        "      print(\"You can't divide by zero!\")\n",
        "\n",
        "  except ValueError:\n",
        "      print(\"Enter a valid number!\")\n",
        "\n",
        "  else:\n",
        "      print(\"Result is\", res)\n",
        "\n",
        "  finally:\n",
        "      print(\"Execution complete.\")\n",
        "\n",
        "divbyzero()\n"
      ],
      "metadata": {
        "colab": {
          "base_uri": "https://localhost:8080/"
        },
        "id": "sxyG-cX5YPt-",
        "outputId": "08aaa533-85e8-4dda-87aa-c5b53be2733f"
      },
      "execution_count": 28,
      "outputs": [
        {
          "output_type": "stream",
          "name": "stdout",
          "text": [
            "Enter an integera\n",
            "Enter a valid number!\n",
            "Execution complete.\n"
          ]
        }
      ]
    },
    {
      "cell_type": "code",
      "source": [
        "#ques 9\n",
        "import random\n",
        "import math\n",
        "def isprime(a):\n",
        "  for i in range(2,int(math.sqrt(a))):\n",
        "    if a%i == 0:\n",
        "      return False\n",
        "  return True\n",
        "# q 9.1\n",
        "a = []\n",
        "for i in range(0,5):\n",
        "  a.append(random.randint(1,100))\n",
        "\n",
        "print(a)\n",
        "# q 9.2\n",
        "ans = isprime(2)\n",
        "print(ans)"
      ],
      "metadata": {
        "colab": {
          "base_uri": "https://localhost:8080/"
        },
        "id": "u4TbyS3JSLAQ",
        "outputId": "1355adf9-a616-4655-c147-3e5f59b75b61"
      },
      "execution_count": 11,
      "outputs": [
        {
          "output_type": "stream",
          "name": "stdout",
          "text": [
            "[28, 21, 41, 82, 19]\n",
            "True\n"
          ]
        }
      ]
    },
    {
      "cell_type": "code",
      "source": [
        "# q 9.3\n",
        "def virtualdie():\n",
        "  return random.randint(1,6)\n",
        "print(virtualdie())"
      ],
      "metadata": {
        "colab": {
          "base_uri": "https://localhost:8080/"
        },
        "id": "ltvqcee4UUVm",
        "outputId": "a8d7f347-3117-400a-985f-9cf7c64eb7ef"
      },
      "execution_count": 14,
      "outputs": [
        {
          "output_type": "stream",
          "name": "stdout",
          "text": [
            "1\n"
          ]
        }
      ]
    },
    {
      "cell_type": "code",
      "source": [
        "# q 9.4\n",
        "def shufflenum(a):\n",
        "  random.shuffle(a)\n",
        "  return a\n",
        "\n",
        "a = []\n",
        "for i in range(0,5):\n",
        "  a.append(random.randint(1,100))\n",
        "\n",
        "print(a)\n",
        "print(shufflenum(a))\n",
        "# q 9.5\n",
        "print(random.choice(a))"
      ],
      "metadata": {
        "colab": {
          "base_uri": "https://localhost:8080/"
        },
        "id": "f4BVdWjlUsL2",
        "outputId": "9a248be9-7c49-4fb8-fee6-bc92d672836b"
      },
      "execution_count": 17,
      "outputs": [
        {
          "output_type": "stream",
          "name": "stdout",
          "text": [
            "[6, 33, 80, 18, 43]\n",
            "[33, 43, 6, 18, 80]\n",
            "6\n"
          ]
        }
      ]
    },
    {
      "cell_type": "code",
      "source": [
        "# q 9.6\n",
        "a = int(input(\"Enter the length of password: \"))\n",
        "for i in range(0,a):\n",
        "  print(random.randint(0,9), end=\"\")\n",
        "\n"
      ],
      "metadata": {
        "colab": {
          "base_uri": "https://localhost:8080/"
        },
        "id": "NYV9apzHU90E",
        "outputId": "ae63372b-a7a5-4eb8-d098-2c29cbce39f8"
      },
      "execution_count": 19,
      "outputs": [
        {
          "output_type": "stream",
          "name": "stdout",
          "text": [
            "Enter the length of password: 6\n",
            "025093"
          ]
        }
      ]
    },
    {
      "cell_type": "code",
      "source": [
        "# q 9.7\n",
        "suits = [\"Hearts\", \"Diamonds\", \"Clubs\", \"Spades\"]\n",
        "ranks = [\"2\", \"3\", \"4\", \"5\", \"6\", \"7\", \"8\", \"9\", \"10\", \"Jack\", \"Queen\", \"King\", \"Ace\"]\n",
        "\n",
        "def pick_random_card():\n",
        "  suit = random.choice(suits)\n",
        "  rank = random.choice(ranks)\n",
        "  return f\"{rank} of {suit}\"\n",
        "\n",
        "random_card = pick_random_card()\n",
        "random_card"
      ],
      "metadata": {
        "id": "HPYc5SXXV0NM"
      },
      "execution_count": null,
      "outputs": []
    },
    {
      "cell_type": "code",
      "source": [
        "#ques 10\n",
        "#q 10.1\n",
        "import sys\n",
        "\n",
        "def add_numbers(num1, num2):\n",
        "    try:\n",
        "        num1 = int(num1)\n",
        "        num2 = int(num2)\n",
        "        return num1 + num2\n",
        "    except ValueError:\n",
        "        return \"Invalid input. Please provide two integers as arguments.\"\n",
        "\n",
        "\n",
        "if __name__ == \"__main__\":\n",
        "    if sys.argv > 2:  # Changed 'len' to built-in function\n",
        "        print(\"Usage: python add_numbers.py <number1> <number2>\")\n",
        "    else:\n",
        "        num1 = sys.argv[1]\n",
        "        num2 = sys.argv[2]\n",
        "        result = add_numbers(num1, num2)\n",
        "        print(result) # Print the result"
      ],
      "metadata": {
        "colab": {
          "base_uri": "https://localhost:8080/",
          "height": 317
        },
        "id": "Q07Z5YmSZ4wA",
        "outputId": "90238acd-fd24-407f-fcfb-906a83832e8c"
      },
      "execution_count": 35,
      "outputs": [
        {
          "output_type": "stream",
          "name": "stdout",
          "text": [
            "Total arguments passed: ['/usr/local/lib/python3.10/dist-packages/colab_kernel_launcher.py', '-f', '/root/.local/share/jupyter/runtime/kernel-25e4c099-7d09-4457-b4c7-27c1858cf8b9.json']\n",
            "\n",
            "Name of Python script: /usr/local/lib/python3.10/dist-packages/colab_kernel_launcher.py\n",
            "\n",
            "Arguments passed: "
          ]
        },
        {
          "output_type": "error",
          "ename": "TypeError",
          "evalue": "'list' object cannot be interpreted as an integer",
          "traceback": [
            "\u001b[0;31m---------------------------------------------------------------------------\u001b[0m",
            "\u001b[0;31mTypeError\u001b[0m                                 Traceback (most recent call last)",
            "\u001b[0;32m<ipython-input-35-69050a9a2afd>\u001b[0m in \u001b[0;36m<cell line: 17>\u001b[0;34m()\u001b[0m\n\u001b[1;32m     15\u001b[0m \u001b[0;34m\u001b[0m\u001b[0m\n\u001b[1;32m     16\u001b[0m \u001b[0mprint\u001b[0m\u001b[0;34m(\u001b[0m\u001b[0;34m\"\\nArguments passed:\"\u001b[0m\u001b[0;34m,\u001b[0m \u001b[0mend\u001b[0m \u001b[0;34m=\u001b[0m \u001b[0;34m\" \"\u001b[0m\u001b[0;34m)\u001b[0m\u001b[0;34m\u001b[0m\u001b[0;34m\u001b[0m\u001b[0m\n\u001b[0;32m---> 17\u001b[0;31m \u001b[0;32mfor\u001b[0m \u001b[0mi\u001b[0m \u001b[0;32min\u001b[0m \u001b[0mrange\u001b[0m\u001b[0;34m(\u001b[0m\u001b[0;36m1\u001b[0m\u001b[0;34m,\u001b[0m \u001b[0mn\u001b[0m\u001b[0;34m)\u001b[0m\u001b[0;34m:\u001b[0m\u001b[0;34m\u001b[0m\u001b[0;34m\u001b[0m\u001b[0m\n\u001b[0m\u001b[1;32m     18\u001b[0m     \u001b[0mprint\u001b[0m\u001b[0;34m(\u001b[0m\u001b[0msys\u001b[0m\u001b[0;34m.\u001b[0m\u001b[0margv\u001b[0m\u001b[0;34m[\u001b[0m\u001b[0mi\u001b[0m\u001b[0;34m]\u001b[0m\u001b[0;34m,\u001b[0m \u001b[0mend\u001b[0m \u001b[0;34m=\u001b[0m \u001b[0;34m\" \"\u001b[0m\u001b[0;34m)\u001b[0m\u001b[0;34m\u001b[0m\u001b[0;34m\u001b[0m\u001b[0m\n\u001b[1;32m     19\u001b[0m \u001b[0;34m\u001b[0m\u001b[0m\n",
            "\u001b[0;31mTypeError\u001b[0m: 'list' object cannot be interpreted as an integer"
          ]
        }
      ]
    },
    {
      "cell_type": "code",
      "source": [
        "# Python program to demonstrate\n",
        "# command line arguments\n",
        "#ques 10\n",
        "#q 10.1\n",
        "\n",
        "import sys\n",
        "# total arguments\n",
        "sys.argv  =[1,2]\n",
        "n = len(sys.argv)\n",
        "print(\"Total arguments passed:\", n)\n",
        "\n",
        "# Arguments passed\n",
        "print(\"\\nName of Python script:\", sys.argv[0])\n",
        "\n",
        "print(\"\\nArguments passed:\", end = \" \")\n",
        "for i in range(0, n):\n",
        "    print(sys.argv[i], end = \" \")\n",
        "\n",
        "# Addition of numbers\n",
        "Sum = 0\n",
        "# Using argparse module\n",
        "for i in range(0, n):\n",
        "   try: # Attempt to convert to integer\n",
        "        Sum += int(sys.argv[i])\n",
        "   except ValueError: # Handle the exception if conversion fails\n",
        "        print(f\"Ignoring non-integer argument: {sys.argv[i]}\")\n",
        "\n",
        "\n",
        "print(\"\\n\\nResult:\", Sum)\n"
      ],
      "metadata": {
        "colab": {
          "base_uri": "https://localhost:8080/"
        },
        "id": "yGuG3sjeb_I1",
        "outputId": "726e9815-eb2d-499b-b64b-0cc04beddeb7"
      },
      "execution_count": 45,
      "outputs": [
        {
          "output_type": "stream",
          "name": "stdout",
          "text": [
            "Total arguments passed: 2\n",
            "\n",
            "Name of Python script: 1\n",
            "\n",
            "Arguments passed: 1 2 \n",
            "\n",
            "Result: 3\n"
          ]
        }
      ]
    },
    {
      "cell_type": "code",
      "source": [
        "# prompt: Write a program to accept a string as a command-line argument and print itslength.\n",
        "#q 10.2\n",
        "# Python program to demonstrate\n",
        "# command line arguments\n",
        "\n",
        "\n",
        "import argparse\n",
        "\n",
        "msg = \"Adding description\"\n",
        "# Simulate command-line arguments (replace with your desired string)\n",
        "sys.argv = [\"\", \"hello world\"]  # \"\" as the script name is a placeholder\n",
        "\n",
        "\n",
        "# Initialize parser\n",
        "parser = argparse.ArgumentParser(description=msg)\n",
        "parser.add_argument(\"string\", type=str, help=\"String to calculate length\")\n",
        "\n",
        "# Parse the arguments\n",
        "args = parser.parse_args()\n",
        "\n",
        "# Access the parsed string and print its length\n",
        "string_length = len(args.string)\n",
        "print(f\"the string is:\",args.string)\n",
        "print(f\"The length of the string is: {string_length}\")"
      ],
      "metadata": {
        "colab": {
          "base_uri": "https://localhost:8080/"
        },
        "id": "UesxzPn5dXg7",
        "outputId": "f83382fb-8b04-407b-98ca-0d52b697d861"
      },
      "execution_count": 47,
      "outputs": [
        {
          "output_type": "stream",
          "name": "stdout",
          "text": [
            "the string is: hello world\n",
            "The length of the string is: 11\n"
          ]
        }
      ]
    },
    {
      "cell_type": "code",
      "source": [
        "#ques 11\n",
        "import math\n",
        "import os\n",
        "import datetime\n",
        "\n",
        "x = datetime.datetime.now()\n",
        "print(x)\n",
        "print(math.sqrt(x.day))\n",
        "os.listdir()"
      ],
      "metadata": {
        "colab": {
          "base_uri": "https://localhost:8080/"
        },
        "id": "rR7HmZurfmIF",
        "outputId": "d324b20a-27fc-4340-9147-3b022a4ea276"
      },
      "execution_count": 52,
      "outputs": [
        {
          "output_type": "stream",
          "name": "stdout",
          "text": [
            "2025-01-15 19:51:49.297222\n",
            "3.872983346207417\n"
          ]
        },
        {
          "output_type": "execute_result",
          "data": {
            "text/plain": [
              "['.config', 'demofile.txt', 'sample_data']"
            ]
          },
          "metadata": {},
          "execution_count": 52
        }
      ]
    }
  ]
}